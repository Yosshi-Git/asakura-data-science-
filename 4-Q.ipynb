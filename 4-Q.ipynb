{
 "cells": [
  {
   "cell_type": "markdown",
   "metadata": {},
   "source": [
    "## 4章 章末問題"
   ]
  },
  {
   "cell_type": "code",
   "execution_count": 1,
   "metadata": {},
   "outputs": [],
   "source": [
    "import pandas as pd\n",
    "import statsmodels.api as sm"
   ]
  },
  {
   "cell_type": "markdown",
   "metadata": {},
   "source": [
    "---\n",
    "#### (1) 4.9節ではマーケットリスクプレミアムが月間 0.3%と仮定して，各銘柄の期待リターンを推定し，理論株価を評価した。最近のサーベイ調査によるとマーケットリスクプレミアムは月間 0.51%であるという。マーケットリスクプレミアムを月間 0.51%として，改めてV/Pが1を上回る割安株で構成されたポートフォリオを構築し，向こう 1 年間において等加重で運用した場合と時価総額加重で運用した場合のリターンを比較してみよう。\n",
    "\n",
    "---"
   ]
  },
  {
   "cell_type": "code",
   "execution_count": 15,
   "metadata": {},
   "outputs": [
    {
     "name": "stdout",
     "output_type": "stream",
     "text": [
      "len(df2): 7\n",
      "   ticker    month     return        ew        vw     ewRet     vwRet\n",
      "0   A0006  2013-07   7.046687  0.142857  0.186544  1.006670  1.314516\n",
      "1   A0006  2013-08   4.573669  0.142857  0.186544  0.653381  0.853190\n",
      "2   A0006  2013-09   6.935333  0.142857  0.186544  0.990762  1.293744\n",
      "3   A0006  2013-10  -6.996787  0.142857  0.186544 -0.999541 -1.305208\n",
      "4   A0006  2013-11  -5.025915  0.142857  0.186544 -0.717988 -0.937554\n",
      "..    ...      ...        ...       ...       ...       ...       ...\n",
      "79  A0061  2014-02  -7.207207  0.142857  0.070482 -1.029601 -0.507979\n",
      "80  A0061  2014-03  33.009710  0.142857  0.070482  4.715673  2.326593\n",
      "81  A0061  2014-04  -4.866180  0.142857  0.070482 -0.695169 -0.342979\n",
      "82  A0061  2014-05  57.033250  0.142857  0.070482  8.147607  4.019823\n",
      "83  A0061  2014-06  12.540720  0.142857  0.070482  1.791531  0.883896\n",
      "\n",
      "[84 rows x 7 columns]\n",
      "             ewRet      vwRet\n",
      "month                        \n",
      "2013-07   6.061446   6.875801\n",
      "2013-08   7.161464   9.208966\n",
      "2013-09   6.408815   6.259934\n",
      "2013-10  -1.060850  -1.769069\n",
      "2013-11   0.449993  -1.110068\n",
      "2013-12   4.046138   7.062786\n",
      "2014-01   4.161681   4.623630\n",
      "2014-02   0.997830   5.070147\n",
      "2014-03  13.900445   7.467460\n",
      "2014-04   0.288413   1.056988\n",
      "2014-05  14.200134  13.972543\n",
      "2014-06   9.383075   7.457398\n"
     ]
    }
   ],
   "source": [
    "# 以下、コード4.1〜4.4を再掲し、コード4.3のリスクプレミアム0.3%を0.51%に変更している(87行目)。\n",
    "# 途中経過を表示するprint()はコメントアウトしている。\n",
    "# ただし、(3)の問題に備え、V/P>1の銘柄数を表示する94行目はコメントアウトしていない。\n",
    "\n",
    "####\n",
    "# コード 4.1 ライブラリの読み込みと入力データの準備\n",
    "\n",
    "# 各銘柄のβ推定などに利用するffMonthly.csvを読み込み\n",
    "ffMonthly = pd.read_csv('./data/ffMonthly.csv', parse_dates=['month'])\n",
    "ffMonthly['month'] = ffMonthly['month'].dt.to_period('M')\n",
    "# print(ffMonthly)\n",
    "##        month   RMRF   SMB   HML    RF\n",
    "## 0    1990-07  20.67 -1.56 -5.16  0.68\n",
    "## 1    1990-08 -13.69 -3.63  0.98  0.66\n",
    "\n",
    "# 必要なデータの選択(行と列の選択)\n",
    "# 産業A(tickerがAから始まる) の月次リターンデータを読み込み\n",
    "stockMonthly = pd.read_csv('./data/stockMonthly.csv', parse_dates=['month'])\n",
    "stockMonthly['month'] = stockMonthly['month'].dt.to_period('M')\n",
    "stockMonthly = stockMonthly[stockMonthly['industry'] == 'A']\n",
    "\n",
    "# β推定のために，2008/7-2013/6の60ヶ月のデータを選択\n",
    "df = stockMonthly[(stockMonthly['month'] >= '2008-7') &\n",
    "                  (stockMonthly['month'] <= '2013-6')].copy()\n",
    "df = df[['ticker', 'month', 'close', 'return', 'share']]\n",
    "# ffMonthlyを結合し各銘柄の月次超過リターン (RIRF)を求める\n",
    "df = pd.merge(df, ffMonthly[['month', 'RMRF', 'RF']], on='month')\n",
    "df['RIRF'] = df['return'] - df['RF']\n",
    "# print(df)\n",
    "##      ticker    month  close     return      share   RMRF    RF       RIRF\n",
    "## 0     A0001  2008-07   2820  -7.571288   15815814   3.24  0.15  -7.721288\n",
    "## 1     A0002  2008-07  12484  16.270840    5046567   3.24  0.15  16.120840\n",
    "\n",
    "# V/P推定後の運用期間データの選択\n",
    "futureRet = stockMonthly[(stockMonthly['month'] >= '2013-7') &\n",
    "                         (stockMonthly['month'] <= '2014-6')]\n",
    "futureRet = futureRet[['ticker', 'month', 'return']]\n",
    "# print(futureRet)\n",
    "##       ticker    month     return\n",
    "## 270    A0001  2013-07  22.149300\n",
    "## 271    A0001  2013-08   8.260577\n",
    "\n",
    "# 各銘柄の1期先の予想配当データの読み込み\n",
    "fy1D = pd.read_csv('./data/dividendData.csv')\n",
    "# print(fy1D)\n",
    "##    ticker  fy1Dividend\n",
    "## 0   A0001         52.0\n",
    "## 1   A0002        148.0\n",
    "\n",
    "######\n",
    "# コード 4.2 ticker別にベータを推定する\n",
    "# 単回帰でβを推定する関数\n",
    "def calBeta(d):\n",
    "    model = sm.OLS(d['RIRF'], sm.add_constant(d['RMRF']))  # 単回帰モデル\n",
    "    res = model.fit()  # OLSによる回帰係数の推定\n",
    "    return res.params['RMRF']  # 推定された定数項とRMRFの回帰係数\n",
    "\n",
    "\n",
    "# print(df[['ticker', 'RIRF', 'RMRF']])\n",
    "##      ticker       RIRF   RMRF\n",
    "## 0     A0001  -7.721288   3.24\n",
    "## 1     A0002  16.120840   3.24\n",
    "\n",
    "# 銘柄ごとにβを推定\n",
    "beta = df[['ticker', 'RIRF', 'RMRF']].groupby('ticker').apply(calBeta)\n",
    "beta.name = 'beta'\n",
    "# print(beta)\n",
    "## ticker\n",
    "## A0001    1.087651\n",
    "## A0002    0.235348\n",
    "##           ...\n",
    "## A0079    0.449321\n",
    "## A0080    0.826608\n",
    "## Name: beta, Length: 77, dtype: float64\n",
    "\n",
    "\n",
    "####\n",
    "# コード 4.3 2013年6月の株価データから割安株を選択するプログラム\n",
    "\n",
    "# ポートフォリを組成する銘柄の選択と投資ウェイトの計算\n",
    "# 各銘柄の2013年6月末時点のV/Pを計算するため，2013-06を選択，予想配当やβも結合\n",
    "df2 = df[df['month'] == '2013-06'].copy()\n",
    "df2 = pd.merge(df2, fy1D, on='ticker')\n",
    "df2 = pd.merge(df2, beta, on='ticker')\n",
    "\n",
    "# 各銘柄のV/Pの推定値 (hatVP)の計算\n",
    "# 年間の期待リターン（企業にとっての株式の資本コスト）単位は(%)\n",
    "# マーケットリスクプレミアムは月間 0.3%とする  ##### ここを0.51%に変更する\n",
    "df2['expRet'] = (df2['RF'] + df2['beta'] * 0.51) * 12\n",
    "# 毎期fy1Dividendの配当が永続すると仮定した理論株価\n",
    "df2['hatV'] = df2['fy1Dividend'] / (df2['expRet'] / 100)\n",
    "df2['hatVP'] = df2['hatV'] / df2['close']  # 2013年6月末時点で推定されたV/P\n",
    "\n",
    "# hatVPが1を上回る割安株だけを抽出\n",
    "df2 = df2[df2['hatVP'] > 1.0]\n",
    "print('len(df2):', len(df2))  ## 43  => 0.51%に変更することで 7に減る\n",
    "\n",
    "# 抽出された割安株で構成されたポートフォリオを等加重と時価総額加重で運用するための投資ウェイトを計算しておく\n",
    "df2['ew'] = 1.0 / len(df2)  # 等加重で運用する場合の各銘柄に対する投資ウェイト\n",
    "df2['me'] = df2['close'] * df2['share']  # 各銘柄の時価総額 (= 株価 × 発行済み株式数)\n",
    "df2['vw'] = df2['me'] / df2['me'].sum()  # 時価総額加重で運用する場合の各銘柄に対する投資ウェイト\n",
    "# print(df2)\n",
    "\n",
    "####\n",
    "# コード4.4 ポートフォリオの評価\n",
    "\n",
    "# 割安株で構成されたポートフォリオの運用結果\n",
    "# 運用期間のデータに等加重と時価総額加重の場合のそれぞれの投資ウェイトを結合し，等加重平均リターンと加重平均リターンをそれぞれ求める\n",
    "# tickerをキーに結合\n",
    "futureRet2 = pd.merge(futureRet, df2[['ticker', 'ew', 'vw']], on='ticker')\n",
    "\n",
    "futureRet2['ewRet'] = futureRet2['return'] * futureRet2['ew']\n",
    "futureRet2['vwRet'] = futureRet2['return'] * futureRet2['vw']\n",
    "print(futureRet2)\n",
    "##     ticker    month     return        ew        vw     ewRet     vwRet\n",
    "## 0    A0001  2013-07  22.149300  0.023256  0.002755  0.515100  0.061026\n",
    "## 1    A0001  2013-08   8.260577  0.023256  0.002755  0.192106  0.022759\n",
    "\n",
    "# 上で計算されたewRetとvwRetを月ごとに足し合わせれば完成\n",
    "rsl = futureRet2[['month', 'ewRet', 'vwRet']].groupby('month').sum()\n",
    "print(rsl)\n",
    "##              ewRet      vwRet\n",
    "## month\n",
    "## 2013-07  -2.828633   4.815620\n",
    "## 2013-08   6.110663  11.472223"
   ]
  },
  {
   "cell_type": "markdown",
   "metadata": {},
   "source": [
    "---\n",
    "#### (2) 問題(1)の等加重平均リターンの結果を利用し，マーケットポートフォリオリターン(RM)をベンチマークとする超過リターンを計算し，2013年6月を超過リターンゼロとして始め，2013年6月から2014年6月までの各月の累積超過リターンを描画してみよう。横軸は年月であり，縦軸は各月の累積超過リターンの図を出力するのが目標である。\n",
    "\n",
    "---"
   ]
  },
  {
   "cell_type": "code",
   "execution_count": 14,
   "metadata": {},
   "outputs": [
    {
     "data": {
      "text/plain": [
       "<AxesSubplot:xlabel='month'>"
      ]
     },
     "execution_count": 14,
     "metadata": {},
     "output_type": "execute_result"
    },
    {
     "data": {
      "image/png": "[encoded data removed]",
      "text/plain": [
       "<Figure size 432x288 with 1 Axes>"
      ]
     },
     "metadata": {
      "needs_background": "light"
     },
     "output_type": "display_data"
    }
   ],
   "source": [
    "# ffMonthlyからRMRFとRFをmergeし，RM=RMRF+RFを計算する。\n",
    "df2 = rsl.merge(ffMonthly[['month', 'RMRF', 'RF']], on='month')\n",
    "df2['RM'] = df2['RMRF'] + df2['RF']\n",
    "\n",
    "# 超過収益率を計算し，monthをindexに設定した後、累積超過収益率をplot()する。\n",
    "df2['return'] = df2['ewRet'] - df2['RM']\n",
    "df2 = df2.set_index('month')\n",
    "df2['return'].cumsum().plot()"
   ]
  },
  {
   "cell_type": "markdown",
   "metadata": {},
   "source": [
    "#### (3)問題(1)で抽出された銘柄数は，マーケットリスクプレミアムを0.3%にした場合と比較して，増えたのか減ったのかを検討し，その理由を考えてみよう。"
   ]
  },
  {
   "cell_type": "markdown",
   "metadata": {},
   "source": [
    "(1)のスクリプトの94行目の結果より、マーケットリスクプレミアムが0.3%の場合は43銘柄選ばれたが、0.51%に変更すると 7銘柄に減少している。"
   ]
  },
  {
   "cell_type": "code",
   "execution_count": null,
   "metadata": {},
   "outputs": [],
   "source": []
  }
 ],
 "metadata": {
  "kernelspec": {
   "display_name": "Python 3",
   "language": "python",
   "name": "python3"
  },
  "language_info": {
   "codemirror_mode": {
    "name": "ipython",
    "version": 3
   },
   "file_extension": ".py",
   "mimetype": "text/x-python",
   "name": "python",
   "nbconvert_exporter": "python",
   "pygments_lexer": "ipython3",
   "version": "3.8.6"
  }
 },
 "nbformat": 4,
 "nbformat_minor": 4
}
