{
 "cells": [
  {
   "cell_type": "markdown",
   "metadata": {},
   "source": [
    "## 5.3 ラッキーセブン戦略の実装"
   ]
  },
  {
   "cell_type": "markdown",
   "metadata": {},
   "source": [
    "### コード5.1 ライブラリの読み込みと入力データの準備"
   ]
  },
  {
   "cell_type": "code",
   "execution_count": 1,
   "metadata": {},
   "outputs": [
    {
     "name": "stdout",
     "output_type": "stream",
     "text": [
      "          month ticker      return\n",
      "1596    2011-07  A0007    0.598007\n",
      "1597    2011-08  A0007    2.245707\n",
      "1598    2011-09  A0007   -2.131783\n",
      "1599    2011-10  A0007    4.818482\n",
      "1600    2011-11  A0007   -3.211587\n",
      "...         ...    ...         ...\n",
      "561769  2014-02  Z0007  143.115500\n",
      "561770  2014-03  Z0007   -7.559395\n",
      "561771  2014-04  Z0007  -19.496360\n",
      "561772  2014-05  Z0007   14.704930\n",
      "561773  2014-06  Z0007   40.736580\n",
      "\n",
      "[900 rows x 3 columns]\n",
      "       month   RMRF   SMB   HML    RF\n",
      "0    1990-07  20.67 -1.56 -5.16  0.68\n",
      "1    1990-08 -13.69 -3.63  0.98  0.66\n",
      "2    1990-09   0.63  5.18  1.83  0.60\n",
      "3    1990-10  -3.76 -5.30  1.84  0.68\n",
      "4    1990-11 -19.52 -0.50  1.43  0.57\n",
      "..       ...    ...   ...   ...   ...\n",
      "295  2015-02   4.59 -2.00  0.73  0.00\n",
      "296  2015-03   8.81 -4.46  0.11  0.00\n",
      "297  2015-04   0.99 -0.16 -1.50  0.00\n",
      "298  2015-05   4.60 -0.98 -0.49  0.00\n",
      "299  2015-06   2.66  0.49 -0.74  0.00\n",
      "\n",
      "[300 rows x 5 columns]\n"
     ]
    }
   ],
   "source": [
    "import pandas as pd\n",
    "import statsmodels.api as sm\n",
    "\n",
    "# 必要なデータの選択(行と列の選択)\n",
    "# ticker末尾が0007の 2011/7-2014/6の36ヶ月のmonthとreturn\n",
    "stockMonthly = pd.read_csv('./data/stockMonthly.csv', parse_dates=['month'])\n",
    "stockMonthly['month'] = stockMonthly['month'].dt.to_period('M')\n",
    "stockMonthly = stockMonthly[stockMonthly['ticker'].str[1:5] == '0007']\n",
    "stockMonthly = stockMonthly[(stockMonthly['month'] >= '2011-7') &\n",
    "                            (stockMonthly['month'] <= '2014-6')]\n",
    "stockMonthly = stockMonthly[['month', 'ticker', 'return']]\n",
    "print(stockMonthly)\n",
    "##          month ticker      return\n",
    "## 1596    2011-07  A0007    0.598007\n",
    "## 1597    2011-08  A0007    2.245707\n",
    "\n",
    "# 市場ポートフォリオの超過リターンが収録されたffMonthlyを読み込み\n",
    "ffMonthly = pd.read_csv('./data/ffMonthly.csv', parse_dates=['month'])\n",
    "ffMonthly['month'] = ffMonthly['month'].dt.to_period('M')\n",
    "print(ffMonthly)\n",
    "##        month   RMRF   SMB   HML    RF\n",
    "## 0    1990-07  20.67 -1.56 -5.16  0.68\n",
    "## 1    1990-08 -13.69 -3.63  0.98  0.66"
   ]
  },
  {
   "cell_type": "markdown",
   "metadata": {},
   "source": [
    "### コード5.2 回帰モデル用のデータセット作成"
   ]
  },
  {
   "cell_type": "code",
   "execution_count": 2,
   "metadata": {},
   "outputs": [
    {
     "name": "stdout",
     "output_type": "stream",
     "text": [
      "      month     return   RMRF    RF       RPRF\n",
      "0   2011-07  11.665931   2.02  0.00  11.665931\n",
      "1   2011-08   7.900743   3.99  0.01   7.890743\n",
      "2   2011-09  -5.958109  -7.42  0.00  -5.958109\n",
      "3   2011-10   3.969759   3.35  0.00   3.969759\n",
      "4   2011-11   3.098784   4.33  0.00   3.098784\n",
      "5   2011-12  -3.371601  -4.20  0.00  -3.371601\n",
      "6   2012-01   3.790057  -2.81  0.00   3.790057\n",
      "7   2012-02   5.814087   8.58  0.00   5.814087\n",
      "8   2012-03   1.651638  -2.02  0.00   1.651638\n",
      "9   2012-04   0.057895  -0.15  0.00   0.057895\n",
      "10  2012-05  -2.748330   0.43  0.01  -2.758330\n",
      "11  2012-06 -10.219615  -9.89  0.00 -10.219615\n",
      "12  2012-07  17.613056   5.76  0.00  17.613056\n",
      "13  2012-08  -5.565265  -2.39  0.01  -5.575265\n",
      "14  2012-09  -3.461467   3.80  0.01  -3.471467\n",
      "15  2012-10  -3.152734  -6.80  0.01  -3.162734\n",
      "16  2012-11  10.036146   8.02  0.01  10.026146\n",
      "17  2012-12   4.183837   4.73  0.01   4.173837\n",
      "18  2013-01   0.351038   2.31  0.00   0.351038\n",
      "19  2013-02  -1.057506   3.65  0.00  -1.057506\n",
      "20  2013-03   5.664587   3.62  0.00   5.664587\n",
      "21  2013-04   3.569701  -3.12  0.00   3.569701\n",
      "22  2013-05  11.668609  12.25  0.00  11.668609\n",
      "23  2013-06  13.137682  11.22  0.00  13.137682\n",
      "24  2013-07   4.345724  -0.36  0.00   4.345724\n",
      "25  2013-08   1.305308   5.07  0.00   1.305308\n",
      "26  2013-09   9.276429   2.55  0.00   9.276429\n",
      "27  2013-10  -0.659775  -5.73  0.00  -0.659775\n",
      "28  2013-11   0.752285  -0.87  0.00   0.752285\n",
      "29  2013-12   5.743656   4.48  0.00   5.743656\n",
      "30  2014-01  -1.234686  -1.18  0.00  -1.234686\n",
      "31  2014-02   4.227553   2.48  0.00   4.227553\n",
      "32  2014-03  -2.138965  -0.49  0.00  -2.138965\n",
      "33  2014-04   0.160090  -2.46  0.00   0.160090\n",
      "34  2014-05  10.465166   5.36  0.00  10.465166\n",
      "35  2014-06  10.845556   8.02  0.00  10.845556\n"
     ]
    }
   ],
   "source": [
    "# 抽出されたラッキーセブン銘柄群の等加重平均リターン（ラッキーセブン戦略によるポートフォリオリターン）を算定\n",
    "df = stockMonthly.groupby('month').mean()\n",
    "# ffMonthlyのRMRF,RFを結合(インデックスによる結合)\n",
    "df = pd.merge(df, ffMonthly[['month', 'RMRF', 'RF']], on='month')\n",
    "# ラッキーセブンポートフォリオの超過リターンを算定 (RPRF = return - RF)\n",
    "df['RPRF'] = df['return'] - df['RF']\n",
    "# 回帰モデル構築用のデータセットの完成\n",
    "print(df)\n",
    "##       month     return   RMRF    RF       RPRF\n",
    "## 0   2011-07  11.665931   2.02  0.00  11.665931\n",
    "## 1   2011-08   7.900743   3.99  0.01   7.890743"
   ]
  },
  {
   "cell_type": "markdown",
   "metadata": {},
   "source": [
    "### コード5.3 回帰モデルの推定"
   ]
  },
  {
   "cell_type": "code",
   "execution_count": 3,
   "metadata": {},
   "outputs": [
    {
     "name": "stdout",
     "output_type": "stream",
     "text": [
      "                            OLS Regression Results                            \n",
      "==============================================================================\n",
      "Dep. Variable:                   RPRF   R-squared:                       0.579\n",
      "Model:                            OLS   Adj. R-squared:                  0.567\n",
      "Method:                 Least Squares   F-statistic:                     46.79\n",
      "Date:                Thu, 16 Dec 2021   Prob (F-statistic):           7.14e-08\n",
      "Time:                        17:08:04   Log-Likelihood:                -100.27\n",
      "No. Observations:                  36   AIC:                             204.5\n",
      "Df Residuals:                      34   BIC:                             207.7\n",
      "Df Model:                           1                                         \n",
      "Covariance Type:            nonrobust                                         \n",
      "==============================================================================\n",
      "                 coef    std err          t      P>|t|      [0.025      0.975]\n",
      "------------------------------------------------------------------------------\n",
      "const          1.6794      0.704      2.386      0.023       0.249       3.110\n",
      "RMRF           0.9122      0.133      6.840      0.000       0.641       1.183\n",
      "==============================================================================\n",
      "Omnibus:                        2.111   Durbin-Watson:                   2.011\n",
      "Prob(Omnibus):                  0.348   Jarque-Bera (JB):                1.131\n",
      "Skew:                           0.386   Prob(JB):                        0.568\n",
      "Kurtosis:                       3.397   Cond. No.                         5.54\n",
      "==============================================================================\n",
      "\n",
      "Notes:\n",
      "[1] Standard Errors assume that the covariance matrix of the errors is correctly specified.\n"
     ]
    }
   ],
   "source": [
    "# ラッキーセブン戦略によるJensenのアルファの推定\n",
    "model = sm.OLS(df['RPRF'], sm.add_constant(df['RMRF']))\n",
    "res = model.fit()  # OLSによる推定\n",
    "print(res.summary())  # 推定結果を表示"
   ]
  }
 ],
 "metadata": {
  "kernelspec": {
   "display_name": "Python 3",
   "language": "python",
   "name": "python3"
  },
  "language_info": {
   "codemirror_mode": {
    "name": "ipython",
    "version": 3
   },
   "file_extension": ".py",
   "mimetype": "text/x-python",
   "name": "python",
   "nbconvert_exporter": "python",
   "pygments_lexer": "ipython3",
   "version": "3.8.6"
  }
 },
 "nbformat": 4,
 "nbformat_minor": 4
}
