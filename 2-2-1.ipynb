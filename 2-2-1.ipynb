{
 "cells": [
  {
   "cell_type": "markdown",
   "metadata": {},
   "source": [
    "## 2.2.1 ゴールデンクロスとデッドクロス"
   ]
  },
  {
   "cell_type": "markdown",
   "metadata": {},
   "source": [
    "### コード2.8 銘柄 A0001 の 2012年〜13 年のデータを選択する"
   ]
  },
  {
   "cell_type": "code",
   "execution_count": 1,
   "metadata": {},
   "outputs": [
    {
     "name": "stdout",
     "output_type": "stream",
     "text": [
      "           ticker  open  high   low  close   volume     share     return  \\\n",
      "date                                                                       \n",
      "2012-01-04  A0001  1683  1683  1683   1683    89264  18179794  -0.118694   \n",
      "2012-01-05  A0001  1604  1666  1534   1666   100683  18179794  -1.010101   \n",
      "2012-01-06  A0001  1630  1708  1630   1655    42017  18179794  -0.660264   \n",
      "2012-01-10  A0001  1668  1668  1668   1668    37014  18179794   0.785498   \n",
      "2012-01-11  A0001  1724  1724  1667   1667    61042  18179794  -0.059952   \n",
      "...           ...   ...   ...   ...    ...      ...       ...        ...   \n",
      "2013-12-24  A0001  1167  1218  1141   1191  2054917  14698572 -10.786520   \n",
      "2013-12-25  A0001  1193  1199  1193   1195    74151  14698572   0.335852   \n",
      "2013-12-26  A0001  1168  1213  1168   1208   526850  14698572   1.087866   \n",
      "2013-12-27  A0001  1166  1196  1164   1196   305329  14698572  -0.993377   \n",
      "2013-12-30  A0001  1179  1209  1147   1195   182782  14698572  -0.083612   \n",
      "\n",
      "           industry  qme qbeme  \n",
      "date                            \n",
      "2012-01-04        A  ME4   BM1  \n",
      "2012-01-05        A  ME4   BM1  \n",
      "2012-01-06        A  ME4   BM1  \n",
      "2012-01-10        A  ME4   BM1  \n",
      "2012-01-11        A  ME4   BM1  \n",
      "...             ...  ...   ...  \n",
      "2013-12-24        A  ME3   BM4  \n",
      "2013-12-25        A  ME3   BM4  \n",
      "2013-12-26        A  ME3   BM4  \n",
      "2013-12-27        A  ME3   BM4  \n",
      "2013-12-30        A  ME3   BM4  \n",
      "\n",
      "[493 rows x 11 columns]\n"
     ]
    }
   ],
   "source": [
    "import os\n",
    "import pandas as pd\n",
    "os.makedirs('./output', exist_ok=True)\n",
    "\n",
    "# 日次株価データを読み込み\n",
    "stockDaily = pd.read_csv('./data/stockDaily.csv', parse_dates=['date'])\n",
    "stockDaily['date'] = stockDaily['date'].dt.to_period('D')\n",
    "stockDaily = stockDaily.set_index('date').sort_index()\n",
    "\n",
    "# 銘柄A0001のデータを選択する。\n",
    "df = stockDaily[stockDaily['ticker'] == 'A0001']\n",
    "\n",
    "# 日付を行ラベルに設定: plotしたときに横軸目盛りになる\n",
    "# 日付をラベルスライサで選択\n",
    "df = df.loc['2012-01-01': '2013-12-31']\n",
    "print(df)"
   ]
  },
  {
   "cell_type": "markdown",
   "metadata": {},
   "source": [
    "### コード2.9 Series で移動平均を計算しチャートを描画する"
   ]
  },
  {
   "cell_type": "code",
   "execution_count": 2,
   "metadata": {},
   "outputs": [
    {
     "name": "stderr",
     "output_type": "stream",
     "text": [
      "findfont: Font family ['IPAexGothic'] not found. Falling back to DejaVu Sans.\n"
     ]
    },
    {
     "data": {
      "image/png": "[encoded data removed]",
      "text/plain": [
       "<Figure size 432x288 with 1 Axes>"
      ]
     },
     "metadata": {
      "needs_background": "light"
     },
     "output_type": "display_data"
    }
   ],
   "source": [
    "# 26日移動平均、52日移動平均\n",
    "ma26 = df['close'].rolling(26).mean()\n",
    "ma52 = df['close'].rolling(52).mean()\n",
    "\n",
    "# Seriesのplot()メソッドを複数実行すれば重ねて描画されていく\n",
    "ax = ma26.plot()\n",
    "ax = ma52.plot(ax=ax)\n",
    "\n",
    "# 画像ファイル(png)として保存\n",
    "ax.get_figure().savefig('./output/ma26_52.png')\n",
    "import matplotlib.pyplot as plt\n",
    "plt.savefig('xxa.png')"
   ]
  },
  {
   "cell_type": "markdown",
   "metadata": {},
   "source": [
    "### コード2.10 Series で移動平均を計算しチャートを描画する"
   ]
  },
  {
   "cell_type": "code",
   "execution_count": 3,
   "metadata": {},
   "outputs": [
    {
     "name": "stdout",
     "output_type": "stream",
     "text": [
      "            close         ma26         ma52    SgL\n",
      "date                                              \n",
      "2012-05-10   1516  1379.000000  1398.153846  False\n",
      "2012-05-11   1468  1384.576923  1396.826923  False\n",
      "2012-05-14   1464  1390.307692  1394.903846  False\n",
      "2012-05-15   1495  1397.884615  1393.961538   True\n",
      "2012-05-16   1460  1404.346154  1392.269231   True\n",
      "2012-05-17   1496  1410.653846  1391.269231   True\n",
      "            close         ma26         ma52    SgL\n",
      "date                                              \n",
      "2012-06-18   1308  1418.000000  1401.288462   True\n",
      "2012-06-19   1324  1412.615385  1401.461538   True\n",
      "2012-06-20   1331  1406.307692  1402.096154   True\n",
      "2012-06-21   1250  1398.230769  1401.288462  False\n",
      "2012-06-22   1231  1388.038462  1399.346154  False\n",
      "2012-06-25   1196  1376.615385  1396.538462  False\n"
     ]
    },
    {
     "data": {
      "text/html": [
       "<div>\n",
       "<style scoped>\n",
       "    .dataframe tbody tr th:only-of-type {\n",
       "        vertical-align: middle;\n",
       "    }\n",
       "\n",
       "    .dataframe tbody tr th {\n",
       "        vertical-align: top;\n",
       "    }\n",
       "\n",
       "    .dataframe thead th {\n",
       "        text-align: right;\n",
       "    }\n",
       "</style>\n",
       "<table border=\"1\" class=\"dataframe\">\n",
       "  <thead>\n",
       "    <tr style=\"text-align: right;\">\n",
       "      <th></th>\n",
       "      <th>close</th>\n",
       "      <th>ma26</th>\n",
       "      <th>ma52</th>\n",
       "      <th>SgL</th>\n",
       "    </tr>\n",
       "    <tr>\n",
       "      <th>date</th>\n",
       "      <th></th>\n",
       "      <th></th>\n",
       "      <th></th>\n",
       "      <th></th>\n",
       "    </tr>\n",
       "  </thead>\n",
       "  <tbody>\n",
       "    <tr>\n",
       "      <th>2012-05-10</th>\n",
       "      <td>1516</td>\n",
       "      <td>1379.000000</td>\n",
       "      <td>1398.153846</td>\n",
       "      <td>False</td>\n",
       "    </tr>\n",
       "    <tr>\n",
       "      <th>2012-05-11</th>\n",
       "      <td>1468</td>\n",
       "      <td>1384.576923</td>\n",
       "      <td>1396.826923</td>\n",
       "      <td>False</td>\n",
       "    </tr>\n",
       "    <tr>\n",
       "      <th>2012-05-14</th>\n",
       "      <td>1464</td>\n",
       "      <td>1390.307692</td>\n",
       "      <td>1394.903846</td>\n",
       "      <td>False</td>\n",
       "    </tr>\n",
       "    <tr>\n",
       "      <th>2012-05-15</th>\n",
       "      <td>1495</td>\n",
       "      <td>1397.884615</td>\n",
       "      <td>1393.961538</td>\n",
       "      <td>True</td>\n",
       "    </tr>\n",
       "    <tr>\n",
       "      <th>2012-05-16</th>\n",
       "      <td>1460</td>\n",
       "      <td>1404.346154</td>\n",
       "      <td>1392.269231</td>\n",
       "      <td>True</td>\n",
       "    </tr>\n",
       "    <tr>\n",
       "      <th>2012-05-17</th>\n",
       "      <td>1496</td>\n",
       "      <td>1410.653846</td>\n",
       "      <td>1391.269231</td>\n",
       "      <td>True</td>\n",
       "    </tr>\n",
       "  </tbody>\n",
       "</table>\n",
       "</div>"
      ],
      "text/plain": [
       "            close         ma26         ma52    SgL\n",
       "date                                              \n",
       "2012-05-10   1516  1379.000000  1398.153846  False\n",
       "2012-05-11   1468  1384.576923  1396.826923  False\n",
       "2012-05-14   1464  1390.307692  1394.903846  False\n",
       "2012-05-15   1495  1397.884615  1393.961538   True\n",
       "2012-05-16   1460  1404.346154  1392.269231   True\n",
       "2012-05-17   1496  1410.653846  1391.269231   True"
      ]
     },
     "metadata": {},
     "output_type": "display_data"
    },
    {
     "data": {
      "text/html": [
       "<div>\n",
       "<style scoped>\n",
       "    .dataframe tbody tr th:only-of-type {\n",
       "        vertical-align: middle;\n",
       "    }\n",
       "\n",
       "    .dataframe tbody tr th {\n",
       "        vertical-align: top;\n",
       "    }\n",
       "\n",
       "    .dataframe thead th {\n",
       "        text-align: right;\n",
       "    }\n",
       "</style>\n",
       "<table border=\"1\" class=\"dataframe\">\n",
       "  <thead>\n",
       "    <tr style=\"text-align: right;\">\n",
       "      <th></th>\n",
       "      <th>close</th>\n",
       "      <th>ma26</th>\n",
       "      <th>ma52</th>\n",
       "      <th>SgL</th>\n",
       "    </tr>\n",
       "    <tr>\n",
       "      <th>date</th>\n",
       "      <th></th>\n",
       "      <th></th>\n",
       "      <th></th>\n",
       "      <th></th>\n",
       "    </tr>\n",
       "  </thead>\n",
       "  <tbody>\n",
       "    <tr>\n",
       "      <th>2012-06-18</th>\n",
       "      <td>1308</td>\n",
       "      <td>1418.000000</td>\n",
       "      <td>1401.288462</td>\n",
       "      <td>True</td>\n",
       "    </tr>\n",
       "    <tr>\n",
       "      <th>2012-06-19</th>\n",
       "      <td>1324</td>\n",
       "      <td>1412.615385</td>\n",
       "      <td>1401.461538</td>\n",
       "      <td>True</td>\n",
       "    </tr>\n",
       "    <tr>\n",
       "      <th>2012-06-20</th>\n",
       "      <td>1331</td>\n",
       "      <td>1406.307692</td>\n",
       "      <td>1402.096154</td>\n",
       "      <td>True</td>\n",
       "    </tr>\n",
       "    <tr>\n",
       "      <th>2012-06-21</th>\n",
       "      <td>1250</td>\n",
       "      <td>1398.230769</td>\n",
       "      <td>1401.288462</td>\n",
       "      <td>False</td>\n",
       "    </tr>\n",
       "    <tr>\n",
       "      <th>2012-06-22</th>\n",
       "      <td>1231</td>\n",
       "      <td>1388.038462</td>\n",
       "      <td>1399.346154</td>\n",
       "      <td>False</td>\n",
       "    </tr>\n",
       "    <tr>\n",
       "      <th>2012-06-25</th>\n",
       "      <td>1196</td>\n",
       "      <td>1376.615385</td>\n",
       "      <td>1396.538462</td>\n",
       "      <td>False</td>\n",
       "    </tr>\n",
       "  </tbody>\n",
       "</table>\n",
       "</div>"
      ],
      "text/plain": [
       "            close         ma26         ma52    SgL\n",
       "date                                              \n",
       "2012-06-18   1308  1418.000000  1401.288462   True\n",
       "2012-06-19   1324  1412.615385  1401.461538   True\n",
       "2012-06-20   1331  1406.307692  1402.096154   True\n",
       "2012-06-21   1250  1398.230769  1401.288462  False\n",
       "2012-06-22   1231  1388.038462  1399.346154  False\n",
       "2012-06-25   1196  1376.615385  1396.538462  False"
      ]
     },
     "metadata": {},
     "output_type": "display_data"
    },
    {
     "data": {
      "image/png": "[encoded data removed]",
      "text/plain": [
       "<Figure size 432x288 with 1 Axes>"
      ]
     },
     "metadata": {
      "needs_background": "light"
     },
     "output_type": "display_data"
    }
   ],
   "source": [
    "# close列からのみなるDataFrameを実体をコピーして作成\n",
    "ma = df[['close']].copy()\n",
    "# 移動平均の計算結果を同じDataFrameの列として追加する\n",
    "ma['ma26'] = ma['close'].rolling(26).mean()\n",
    "ma['ma52'] = ma['close'].rolling(52).mean()\n",
    "# 短期(26日)移動平均が中長期(52日)移動平均を上回ったかどうか\n",
    "ma['SgL'] = ma['ma26'] > ma['ma52']  # short term MA greater than long term MA\n",
    "# ２つの移動平均の列を選択してチャートを描画\n",
    "ma[['ma26', 'ma52']].plot()\n",
    "# ゴールデンクロスとデッドクロスが起こる期間の内容を表示\n",
    "print(ma.iloc[86:92])\n",
    "print(ma.iloc[113:119])"
   ]
  },
  {
   "cell_type": "code",
   "execution_count": null,
   "metadata": {},
   "outputs": [],
   "source": []
  }
 ],
 "metadata": {
  "kernelspec": {
   "display_name": "Python 3",
   "language": "python",
   "name": "python3"
  },
  "language_info": {
   "codemirror_mode": {
    "name": "ipython",
    "version": 3
   },
   "file_extension": ".py",
   "mimetype": "text/x-python",
   "name": "python",
   "nbconvert_exporter": "python",
   "pygments_lexer": "ipython3",
   "version": "3.8.6"
  }
 },
 "nbformat": 4,
 "nbformat_minor": 4
}
