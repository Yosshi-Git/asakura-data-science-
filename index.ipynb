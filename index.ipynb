{
 "cells": [
  {
   "cell_type": "markdown",
   "metadata": {},
   "source": [
    "## Pythonによるビジネスデータサイエンスサポートページ\n",
    "\n",
    "## pandasリファレンス\n",
    "本シリーズではpandasを用いたプログラムが多いため、リファレンスを用意しておきました。\n",
    "また、以下のHTMLの元になっているipynbは第４巻「ファイナンス」のgithub上で公開しています( https://github.com/asakura-data-science/finance の appendixフォルダ)。\n",
    "\n",
    "- [a-1. pandasの基本](./appendix/a-1_base.html)\n",
    "- [a-2. 選択](./appendix/a-2_select.html)\n",
    "- [a-3. 値のセット](./appendix/a-3_setvalues.html)\n",
    "- [a-4. グループ処理](./appendix/a-4_groupby.html)\n",
    "- [a-5. 結合](./appendix/a-5_join.html)\n",
    "- [a-6. 欠損値](./appendix/a-6_missingdata.html)\n",
    "- [a-7. ローリングウィンドウ](./appendix/a-7_rolling.html)\n",
    "- [a-8. ピボット](./appendix/a-8_pivot.html)\n",
    "- [a-9. チャート](./appendix/a-9_plotting.html)\n",
    "- [a-10. マルチインデックス](./appendix/a-10_mutliindex.html)\n"
   ]
  },
  {
   "cell_type": "code",
   "execution_count": null,
   "metadata": {},
   "outputs": [],
   "source": []
  }
 ],
 "metadata": {
  "kernelspec": {
   "display_name": "Python 3",
   "language": "python",
   "name": "python3"
  },
  "language_info": {
   "codemirror_mode": {
    "name": "ipython",
    "version": 3
   },
   "file_extension": ".py",
   "mimetype": "text/x-python",
   "name": "python",
   "nbconvert_exporter": "python",
   "pygments_lexer": "ipython3",
   "version": "3.8.6"
  }
 },
 "nbformat": 4,
 "nbformat_minor": 4
}
